{
 "cells": [
  {
   "cell_type": "markdown",
   "id": "5baf9268",
   "metadata": {},
   "source": [
    "# Job Position Statistic\n",
    "\n",
    "For an information technology student, finding out the positions in the IT market is a very necessary thing. In this notebook, I will summarize the number of positions currently recruiting and compare that number of positions and based on that statisitc, we can understand the recruitment needs of companies for each specific position.\n",
    "\n"
   ]
  },
  {
   "cell_type": "code",
   "execution_count": 316,
   "id": "18cb12f2",
   "metadata": {},
   "outputs": [],
   "source": [
    "# Step 1: Inspect Data Source "
   ]
  },
  {
   "cell_type": "code",
   "execution_count": 317,
   "id": "0f4f8adf",
   "metadata": {},
   "outputs": [],
   "source": [
    "from selenium import webdriver\n",
    "from selenium.webdriver.common.by import By\n",
    "from selenium.webdriver.common.keys import Keys\n",
    "import time\n",
    "from selenium.webdriver.support.ui import WebDriverWait\n",
    "from selenium.webdriver.support import expected_conditions as EC\n",
    "from selenium.webdriver.common.action_chains import ActionChains\n",
    "\n",
    "\n",
    "url = 'https://www.linkedin.com/home'\n",
    "driver = webdriver.Firefox()\n",
    "driver.get(url)\n"
   ]
  },
  {
   "cell_type": "code",
   "execution_count": 318,
   "id": "967ff172",
   "metadata": {},
   "outputs": [],
   "source": [
    "# Step 2: Scrape HTML content"
   ]
  },
  {
   "cell_type": "code",
   "execution_count": 319,
   "id": "e0e91cf4",
   "metadata": {},
   "outputs": [],
   "source": [
    "driver.find_element(By.LINK_TEXT, \"Jobs\").click()\n",
    "\n",
    "time.sleep(4)\n",
    "field = driver.find_element(By.NAME, \"keywords\")\n",
    "location = driver.find_element(By.NAME, \"location\")\n"
   ]
  },
  {
   "cell_type": "markdown",
   "id": "b333d076",
   "metadata": {},
   "source": [
    "In this case, I will give several keywords to review all field in Linkedin such as: **Sofware**, **Hardware**, **Data** and **Security**. The reason why I use several keywords instead of just one like **IT** is that data becomes cluttered, difficult to sort by field as well as more difficult to sort by level."
   ]
  },
  {
   "cell_type": "code",
   "execution_count": 320,
   "id": "df683c67",
   "metadata": {},
   "outputs": [],
   "source": [
    "list_keywords = [\"Software\", \"Hardware\", \"Data\", \"Security\"]\n",
    "\n",
    "\n",
    "time.sleep(3)\n",
    "field.send_keys(\"Software\")\n",
    "\n",
    "time.sleep(2)\n",
    "\n",
    "location.send_keys(Keys.CONTROL + \"a\")\n",
    "location.send_keys(Keys.DELETE)\n",
    "location.send_keys(\"Vietnam\")\n",
    "\n",
    "time.sleep(2)\n",
    "\n",
    "location.send_keys(Keys.ENTER)\n",
    "\n",
    "\n",
    "## take all the data we need for each keyword and save it in separate csv file."
   ]
  },
  {
   "cell_type": "code",
   "execution_count": 321,
   "id": "18c2ede5",
   "metadata": {},
   "outputs": [],
   "source": [
    "# Step 3: parse HTML Code"
   ]
  },
  {
   "cell_type": "code",
   "execution_count": 322,
   "id": "5c1b3d84",
   "metadata": {},
   "outputs": [
    {
     "name": "stdout",
     "output_type": "stream",
     "text": [
      "Software Engineer Intern\n",
      "Software Engineer Intern\n",
      "Full Stack Engineer\n",
      "Software Engineer Intern\n",
      "FRESHER - JUNIOR SOFTWARE DEVELOPER\n",
      "Software Engineer\n",
      "Software Engineer\n",
      "Software Engineer, Legal Tech (Digitization)\n",
      "Java Software Engineer\n",
      "Senior Software Engineer\n",
      "Senior Software Engineer, Backend\n",
      "SOFTWARE DEVELOPER INTERNSHIP\n",
      "Java Software Engineer\n",
      "Software Engineer\n",
      "Backend Software Engineer - FinLab - Ho Chi Minh City Based\n",
      "Software Engineer Intern\n",
      "Fresher Software Engineer\n",
      "[Metaverse] Young Talent Software Engineer/Competitive Pay\n",
      "Java Developer\n",
      "Senior Java Developer\n",
      "Junior Software Engineer - Build by McKinsey - Ho Chi Minh City Based\n",
      "Software Engineer\n",
      "Fresher Java Developer\n",
      "Java Software Engineer Intern\n",
      "Software Engineer (C++, Fresher/Junior) - MDC\n"
     ]
    }
   ],
   "source": [
    "time.sleep(4)\n",
    "jobs = driver.find_element(By.CLASS_NAME, \"jobs-search__results-list\")\n",
    "\n",
    "def extract_jobs():\n",
    "    list_li = jobs.find_elements(By.TAG_NAME, \"li\")\n",
    "\n",
    "    for item in list_li:\n",
    "        list_jobs = item.find_element(By.TAG_NAME, \"h3\").text\n",
    "        print(list_jobs)\n",
    "\n",
    "SCROLL_PAUSE_TIME = 2\n",
    "\n",
    "for i in range(1,5):\n",
    "    # Scroll down to bottom\n",
    "    driver.execute_script(\"window.scrollTo(0, document.body.scrollHeight);\")\n",
    "    \n",
    "    # Wait to load page\n",
    "    time.sleep(SCROLL_PAUSE_TIME)\n",
    "\n",
    "time.sleep(7)\n",
    "extract_jobs()"
   ]
  },
  {
   "cell_type": "code",
   "execution_count": null,
   "id": "c7d2f0c6",
   "metadata": {},
   "outputs": [],
   "source": []
  },
  {
   "cell_type": "code",
   "execution_count": null,
   "id": "b3803862",
   "metadata": {},
   "outputs": [],
   "source": []
  }
 ],
 "metadata": {
  "kernelspec": {
   "display_name": "Python 3 (ipykernel)",
   "language": "python",
   "name": "python3"
  },
  "language_info": {
   "codemirror_mode": {
    "name": "ipython",
    "version": 3
   },
   "file_extension": ".py",
   "mimetype": "text/x-python",
   "name": "python",
   "nbconvert_exporter": "python",
   "pygments_lexer": "ipython3",
   "version": "3.10.4"
  }
 },
 "nbformat": 4,
 "nbformat_minor": 5
}
