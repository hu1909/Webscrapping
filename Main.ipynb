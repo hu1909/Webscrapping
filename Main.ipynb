{
 "cells": [
  {
   "cell_type": "markdown",
   "id": "5baf9268",
   "metadata": {},
   "source": [
    "# Job Position Statistic\n",
    "\n",
    "For an information technology student, finding out the positions in the IT market is a very necessary thing. In this notebook, I will summarize the number of positions currently recruiting and compare that number of positions and based on that statisitc, we can understand the recruitment needs of companies for each specific position.\n",
    "\n"
   ]
  },
  {
   "cell_type": "code",
   "execution_count": 3,
   "id": "0f4f8adf",
   "metadata": {},
   "outputs": [],
   "source": [
    "from selenium import webdriver\n",
    "from selenium.webdriver.common.by import By\n",
    "from selenium.webdriver.common.keys import Keys\n",
    "import time\n",
    "import pandas as pd\n",
    "\n",
    "\n",
    "class Job(webdriver.Firefox):\n",
    "    def __init__(self, name_job, url= 'https://www.linkedin.com/home',list_jobs = [], job_infor = {}, ):\n",
    "        self.url = url;\n",
    "        self.name_job = name_job\n",
    "        self.list_jobs = list_jobs\n",
    "        self.job_infor = job_infor\n",
    "        super(Job, self).__init__()\n",
    "\n",
    "    def get_list_jobs(self):\n",
    "        return self.list_jobs\n",
    "    \n",
    "    def set_list_job(self, name_job):\n",
    "        self.list_jobs = list_jobs\n",
    "    \n",
    "    def goto_page(self):\n",
    "        self.get(self.url)\n",
    "        \n",
    "\n",
    "    def search(self):\n",
    "        self.find_element(By.LINK_TEXT, \"Jobs\").click()\n",
    "        time.sleep(4)\n",
    "        field = self.find_element(By.NAME, \"keywords\")\n",
    "        location = self.find_element(By.NAME, \"location\")\n",
    "        \n",
    "        time.sleep(3)\n",
    "        field.send_keys(self.name_job)\n",
    "            \n",
    "        time.sleep(2)\n",
    "        location.send_keys(Keys.CONTROL + \"a\")\n",
    "        location.send_keys(Keys.DELETE)\n",
    "        location.send_keys(\"Vietnam\")\n",
    "\n",
    "        time.sleep(2)\n",
    "\n",
    "        location.send_keys(Keys.ENTER)\n",
    "     \n",
    "    \n",
    "    def extract_data(self):\n",
    "        list_to_extract_jobs = self.find_element(By.CLASS_NAME, \"jobs-search__results-list\")\n",
    "        \n",
    "        list_li = list_to_extract_jobs.find_elements(By.TAG_NAME, \"li\")\n",
    "\n",
    "        for item in list_li:\n",
    "            jobs_title = item.find_element(By.TAG_NAME, \"h3\").text\n",
    "            jobs_company = item.find_element(By.TAG_NAME, \"h4\").text\n",
    "            jobs_location = item.find_element(By.CLASS_NAME, \"job-search-card__location\").text\n",
    "            self.job_infor = {'Position': jobs_title, 'Company': jobs_company, 'Location': jobs_location}\n",
    "            self.list_jobs.append(self.job_infor)\n",
    "        \n",
    "        \n",
    "    def load_page(self):\n",
    "        self.execute_script(\"window.scrollTo(0, document.body.scrollHeight);\")\n",
    "        time.sleep(2)\n",
    "    \n",
    "    def second_load(self):\n",
    "        for i in range(20):\n",
    "            main = self.find_element(By.ID, \"main-content\")\n",
    "            div = main.find_element(By.CLASS_NAME, \"two-pane-serp-page__results-list\")\n",
    "            try:\n",
    "                button = div.find_element(By.TAG_NAME, \"button\").click()\n",
    "            except:\n",
    "                pass\n",
    "            self.load_page()\n",
    "    \n",
    "    def add_to_file(self):\n",
    "        df = pd.DataFrame(self.list_jobs)\n",
    "        match self.name_job:\n",
    "            case \"Software\":\n",
    "                return df.to_csv(\"Software_position.csv\", mode=\"w\", index=False, header=True)\n",
    "            case \"Hardware\":\n",
    "                return df.to_csv(\"Hardware_position.csv\", mode=\"w\", index=False, header=True)\n",
    "            case \"Data\":\n",
    "                return df.to_csv(\"Data_position.csv\", mode=\"w\", index=False, header=True)\n",
    "            case \"Security\":\n",
    "                return df.to_csv(\"Security_position.csv\", mode=\"w\", index=False, header=True)\n",
    "        "
   ]
  },
  {
   "cell_type": "markdown",
   "id": "b333d076",
   "metadata": {},
   "source": [
    "In this case, I will give several keywords to review all field in Linkedin such as: **Sofware**, **Hardware**, **Data** and **Security**. The reason why I use several keywords instead of just one like **IT** is that when i use **IT** keyword, data becomes cluttered, difficult to sort by field as well as more difficult to sort by level."
   ]
  },
  {
   "cell_type": "code",
   "execution_count": 4,
   "id": "18cb12f2",
   "metadata": {},
   "outputs": [
    {
     "ename": "NoSuchElementException",
     "evalue": "Message: Unable to locate element: [name=\"keywords\"]\nStacktrace:\nRemoteError@chrome://remote/content/shared/RemoteError.jsm:12:1\nWebDriverError@chrome://remote/content/shared/webdriver/Errors.jsm:192:5\nNoSuchElementError@chrome://remote/content/shared/webdriver/Errors.jsm:404:5\nelement.find/</<@chrome://remote/content/marionette/element.js:291:16\n",
     "output_type": "error",
     "traceback": [
      "\u001b[0;31m---------------------------------------------------------------------------\u001b[0m",
      "\u001b[0;31mNoSuchElementException\u001b[0m                    Traceback (most recent call last)",
      "Cell \u001b[0;32mIn [4], line 8\u001b[0m\n\u001b[1;32m      5\u001b[0m     job \u001b[38;5;241m=\u001b[39m Job(i)\n\u001b[1;32m      6\u001b[0m     job\u001b[38;5;241m.\u001b[39mgoto_page()\n\u001b[0;32m----> 8\u001b[0m     \u001b[43mjob\u001b[49m\u001b[38;5;241;43m.\u001b[39;49m\u001b[43msearch\u001b[49m\u001b[43m(\u001b[49m\u001b[43m)\u001b[49m\n\u001b[1;32m      9\u001b[0m     time\u001b[38;5;241m.\u001b[39msleep(\u001b[38;5;241m4\u001b[39m)\n\u001b[1;32m     11\u001b[0m \u001b[38;5;66;03m# Step 2: Scrape HTML content & Step 3: parse HTML Code    \u001b[39;00m\n",
      "Cell \u001b[0;32mIn [3], line 29\u001b[0m, in \u001b[0;36mJob.search\u001b[0;34m(self)\u001b[0m\n\u001b[1;32m     27\u001b[0m \u001b[38;5;28mself\u001b[39m\u001b[38;5;241m.\u001b[39mfind_element(By\u001b[38;5;241m.\u001b[39mLINK_TEXT, \u001b[38;5;124m\"\u001b[39m\u001b[38;5;124mJobs\u001b[39m\u001b[38;5;124m\"\u001b[39m)\u001b[38;5;241m.\u001b[39mclick()\n\u001b[1;32m     28\u001b[0m time\u001b[38;5;241m.\u001b[39msleep(\u001b[38;5;241m4\u001b[39m)\n\u001b[0;32m---> 29\u001b[0m field \u001b[38;5;241m=\u001b[39m \u001b[38;5;28;43mself\u001b[39;49m\u001b[38;5;241;43m.\u001b[39;49m\u001b[43mfind_element\u001b[49m\u001b[43m(\u001b[49m\u001b[43mBy\u001b[49m\u001b[38;5;241;43m.\u001b[39;49m\u001b[43mNAME\u001b[49m\u001b[43m,\u001b[49m\u001b[43m \u001b[49m\u001b[38;5;124;43m\"\u001b[39;49m\u001b[38;5;124;43mkeywords\u001b[39;49m\u001b[38;5;124;43m\"\u001b[39;49m\u001b[43m)\u001b[49m\n\u001b[1;32m     30\u001b[0m location \u001b[38;5;241m=\u001b[39m \u001b[38;5;28mself\u001b[39m\u001b[38;5;241m.\u001b[39mfind_element(By\u001b[38;5;241m.\u001b[39mNAME, \u001b[38;5;124m\"\u001b[39m\u001b[38;5;124mlocation\u001b[39m\u001b[38;5;124m\"\u001b[39m)\n\u001b[1;32m     32\u001b[0m time\u001b[38;5;241m.\u001b[39msleep(\u001b[38;5;241m3\u001b[39m)\n",
      "File \u001b[0;32m~/notebook/jupyterenv/lib/python3.10/site-packages/selenium/webdriver/remote/webdriver.py:855\u001b[0m, in \u001b[0;36mWebDriver.find_element\u001b[0;34m(self, by, value)\u001b[0m\n\u001b[1;32m    852\u001b[0m     by \u001b[38;5;241m=\u001b[39m By\u001b[38;5;241m.\u001b[39mCSS_SELECTOR\n\u001b[1;32m    853\u001b[0m     value \u001b[38;5;241m=\u001b[39m \u001b[38;5;124m'\u001b[39m\u001b[38;5;124m[name=\u001b[39m\u001b[38;5;124m\"\u001b[39m\u001b[38;5;132;01m%s\u001b[39;00m\u001b[38;5;124m\"\u001b[39m\u001b[38;5;124m]\u001b[39m\u001b[38;5;124m'\u001b[39m \u001b[38;5;241m%\u001b[39m value\n\u001b[0;32m--> 855\u001b[0m \u001b[38;5;28;01mreturn\u001b[39;00m \u001b[38;5;28;43mself\u001b[39;49m\u001b[38;5;241;43m.\u001b[39;49m\u001b[43mexecute\u001b[49m\u001b[43m(\u001b[49m\u001b[43mCommand\u001b[49m\u001b[38;5;241;43m.\u001b[39;49m\u001b[43mFIND_ELEMENT\u001b[49m\u001b[43m,\u001b[49m\u001b[43m \u001b[49m\u001b[43m{\u001b[49m\n\u001b[1;32m    856\u001b[0m \u001b[43m    \u001b[49m\u001b[38;5;124;43m'\u001b[39;49m\u001b[38;5;124;43musing\u001b[39;49m\u001b[38;5;124;43m'\u001b[39;49m\u001b[43m:\u001b[49m\u001b[43m \u001b[49m\u001b[43mby\u001b[49m\u001b[43m,\u001b[49m\n\u001b[1;32m    857\u001b[0m \u001b[43m    \u001b[49m\u001b[38;5;124;43m'\u001b[39;49m\u001b[38;5;124;43mvalue\u001b[39;49m\u001b[38;5;124;43m'\u001b[39;49m\u001b[43m:\u001b[49m\u001b[43m \u001b[49m\u001b[43mvalue\u001b[49m\u001b[43m}\u001b[49m\u001b[43m)\u001b[49m[\u001b[38;5;124m'\u001b[39m\u001b[38;5;124mvalue\u001b[39m\u001b[38;5;124m'\u001b[39m]\n",
      "File \u001b[0;32m~/notebook/jupyterenv/lib/python3.10/site-packages/selenium/webdriver/remote/webdriver.py:428\u001b[0m, in \u001b[0;36mWebDriver.execute\u001b[0;34m(self, driver_command, params)\u001b[0m\n\u001b[1;32m    426\u001b[0m response \u001b[38;5;241m=\u001b[39m \u001b[38;5;28mself\u001b[39m\u001b[38;5;241m.\u001b[39mcommand_executor\u001b[38;5;241m.\u001b[39mexecute(driver_command, params)\n\u001b[1;32m    427\u001b[0m \u001b[38;5;28;01mif\u001b[39;00m response:\n\u001b[0;32m--> 428\u001b[0m     \u001b[38;5;28;43mself\u001b[39;49m\u001b[38;5;241;43m.\u001b[39;49m\u001b[43merror_handler\u001b[49m\u001b[38;5;241;43m.\u001b[39;49m\u001b[43mcheck_response\u001b[49m\u001b[43m(\u001b[49m\u001b[43mresponse\u001b[49m\u001b[43m)\u001b[49m\n\u001b[1;32m    429\u001b[0m     response[\u001b[38;5;124m'\u001b[39m\u001b[38;5;124mvalue\u001b[39m\u001b[38;5;124m'\u001b[39m] \u001b[38;5;241m=\u001b[39m \u001b[38;5;28mself\u001b[39m\u001b[38;5;241m.\u001b[39m_unwrap_value(\n\u001b[1;32m    430\u001b[0m         response\u001b[38;5;241m.\u001b[39mget(\u001b[38;5;124m'\u001b[39m\u001b[38;5;124mvalue\u001b[39m\u001b[38;5;124m'\u001b[39m, \u001b[38;5;28;01mNone\u001b[39;00m))\n\u001b[1;32m    431\u001b[0m     \u001b[38;5;28;01mreturn\u001b[39;00m response\n",
      "File \u001b[0;32m~/notebook/jupyterenv/lib/python3.10/site-packages/selenium/webdriver/remote/errorhandler.py:243\u001b[0m, in \u001b[0;36mErrorHandler.check_response\u001b[0;34m(self, response)\u001b[0m\n\u001b[1;32m    241\u001b[0m         alert_text \u001b[38;5;241m=\u001b[39m value[\u001b[38;5;124m'\u001b[39m\u001b[38;5;124malert\u001b[39m\u001b[38;5;124m'\u001b[39m]\u001b[38;5;241m.\u001b[39mget(\u001b[38;5;124m'\u001b[39m\u001b[38;5;124mtext\u001b[39m\u001b[38;5;124m'\u001b[39m)\n\u001b[1;32m    242\u001b[0m     \u001b[38;5;28;01mraise\u001b[39;00m exception_class(message, screen, stacktrace, alert_text)  \u001b[38;5;66;03m# type: ignore[call-arg]  # mypy is not smart enough here\u001b[39;00m\n\u001b[0;32m--> 243\u001b[0m \u001b[38;5;28;01mraise\u001b[39;00m exception_class(message, screen, stacktrace)\n",
      "\u001b[0;31mNoSuchElementException\u001b[0m: Message: Unable to locate element: [name=\"keywords\"]\nStacktrace:\nRemoteError@chrome://remote/content/shared/RemoteError.jsm:12:1\nWebDriverError@chrome://remote/content/shared/webdriver/Errors.jsm:192:5\nNoSuchElementError@chrome://remote/content/shared/webdriver/Errors.jsm:404:5\nelement.find/</<@chrome://remote/content/marionette/element.js:291:16\n"
     ]
    }
   ],
   "source": [
    "# Step 1: Inspect Data Source \n",
    "list_keywords = [\"Software\", \"Hardware\", \"Data\", \"Security\"]\n",
    "\n",
    "for i in list_keywords:\n",
    "    job = Job(i)\n",
    "    job.goto_page()\n",
    "\n",
    "    job.search()\n",
    "    time.sleep(4)\n",
    "    \n",
    "# Step 2: Scrape HTML content & Step 3: parse HTML Code    \n",
    "    for i in range(6):\n",
    "        job.load_page()\n",
    "    \n",
    "    job.second_load()\n",
    "    job.extract_data()\n",
    "\n",
    "# Step 4: Export into csv file\n",
    "    job.add_to_file()\n",
    "    job.get_list_jobs().clear()"
   ]
  },
  {
   "cell_type": "code",
   "execution_count": null,
   "id": "e765eca8",
   "metadata": {},
   "outputs": [],
   "source": []
  }
 ],
 "metadata": {
  "kernelspec": {
   "display_name": "Python 3 (ipykernel)",
   "language": "python",
   "name": "python3"
  },
  "language_info": {
   "codemirror_mode": {
    "name": "ipython",
    "version": 3
   },
   "file_extension": ".py",
   "mimetype": "text/x-python",
   "name": "python",
   "nbconvert_exporter": "python",
   "pygments_lexer": "ipython3",
   "version": "3.10.6"
  }
 },
 "nbformat": 4,
 "nbformat_minor": 5
}
