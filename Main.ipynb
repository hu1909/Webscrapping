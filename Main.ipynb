{
 "cells": [
  {
   "cell_type": "markdown",
   "id": "5baf9268",
   "metadata": {},
   "source": [
    "# Job Position Statistic\n",
    "\n",
    "For an information technology student, finding out the positions in the IT market is a very necessary thing. In this notebook, I will summarize the number of positions currently recruiting and compare that number of positions and based on that statisitc, we can understand the recruitment needs of companies for each specific position.\n",
    "\n"
   ]
  },
  {
   "cell_type": "code",
   "execution_count": 102,
   "id": "18cb12f2",
   "metadata": {},
   "outputs": [],
   "source": [
    "# Step 1: Inspect Data Source "
   ]
  },
  {
   "cell_type": "code",
   "execution_count": 103,
   "id": "0f4f8adf",
   "metadata": {},
   "outputs": [],
   "source": [
    "from selenium import webdriver\n",
    "from selenium.webdriver.common.by import By\n",
    "from selenium.webdriver.common.keys import Keys\n",
    "import time\n",
    "from selenium.webdriver.support.ui import WebDriverWait\n",
    "from selenium.webdriver.support import expected_conditions as EC\n",
    "from selenium.webdriver.common.action_chains import ActionChains\n",
    "import panda as pd\n",
    "\n",
    "url = 'https://www.linkedin.com/home'\n",
    "driver = webdriver.Firefox()\n",
    "driver.get(url)\n"
   ]
  },
  {
   "cell_type": "code",
   "execution_count": 104,
   "id": "967ff172",
   "metadata": {},
   "outputs": [],
   "source": [
    "# Step 2: Scrape HTML content"
   ]
  },
  {
   "cell_type": "code",
   "execution_count": 105,
   "id": "e0e91cf4",
   "metadata": {},
   "outputs": [],
   "source": [
    "driver.find_element(By.LINK_TEXT, \"Jobs\").click()\n",
    "\n",
    "time.sleep(4)\n",
    "field = driver.find_element(By.NAME, \"keywords\")\n",
    "location = driver.find_element(By.NAME, \"location\")\n"
   ]
  },
  {
   "cell_type": "markdown",
   "id": "b333d076",
   "metadata": {},
   "source": [
    "In this case, I will give several keywords to review all field in Linkedin such as: **Sofware**, **Hardware**, **Data** and **Security**. The reason why I use several keywords instead of just one like **IT** is that data becomes cluttered, difficult to sort by field as well as more difficult to sort by level."
   ]
  },
  {
   "cell_type": "code",
   "execution_count": 106,
   "id": "df683c67",
   "metadata": {},
   "outputs": [],
   "source": [
    "list_keywords = [\"Software\", \"Hardware\", \"Data\", \"Security\"]\n",
    "\n",
    "\n",
    "time.sleep(3)\n",
    "field.send_keys(\"Software\")\n",
    "\n",
    "time.sleep(2)\n",
    "\n",
    "location.send_keys(Keys.CONTROL + \"a\")\n",
    "location.send_keys(Keys.DELETE)\n",
    "location.send_keys(\"Vietnam\")\n",
    "\n",
    "time.sleep(2)\n",
    "\n",
    "location.send_keys(Keys.ENTER)\n",
    "\n",
    "\n",
    "## take all the data we need for each keyword and save it in separate csv file."
   ]
  },
  {
   "cell_type": "code",
   "execution_count": 107,
   "id": "18c2ede5",
   "metadata": {},
   "outputs": [],
   "source": [
    "# Step 3: parse HTML Code"
   ]
  },
  {
   "cell_type": "code",
   "execution_count": 108,
   "id": "5c1b3d84",
   "metadata": {},
   "outputs": [
    {
     "name": "stdout",
     "output_type": "stream",
     "text": [
      "['Senior Fullstack Engineer (NodeJs, React)', 'Senior Fullstack Engineer (.Net, React)', 'Senior Software Engineer – iOS (Bangkok based, relocation provided)', '(Mid/Lead/Senior) Frontend Software Engineer - Open to remote work', 'Senior Software Engineer – iOS (Bangkok based, relocation provided)', 'Senior Frontend Developer (Angular) - MDV', 'Senior iOS Developer', 'Senior Full Stack Software Engineer (Ruby on Rails, Angular & ReactJS)', 'Business Intelligence Manager, Commercial Finance (Bangkok-based)', 'Senior ReactJS Frontend Engineer', 'Senior/Lead React.JS Developer - Relocation to the Netherlands', 'Business Intelligence Manager, Commercial Finance (Bangkok-based)', 'Remote Ruby on Rails Engineer', 'Senior Analyst or Associate Manager, Marketing Strategy (Bangkok Based, relocation provided)', 'Senior UX/UI Designer', 'Software Engineer, Tech Lead', 'Magento Frontend Developer', 'Senior Software Engineer - Backend', 'Senior Product Designer, UI/UX', 'Senior Frontend Developer', 'Senior NodeJS Software Engineer, KMS Healthcare', 'Senior Software Engineer (React.JS)', 'Salesforce Developer - Japanese Speaking - HCM/HN', 'Senior Application Security Engineer (Bangkok based, relocation provided)', 'Senior Fullstack Developer']\n"
     ]
    }
   ],
   "source": [
    "time.sleep(4)\n",
    "list_to_extract_jobs = driver.find_element(By.CLASS_NAME, \"jobs-search__results-list\")\n",
    "list_jobs = []\n",
    "\n",
    "def extract_jobs():\n",
    "    list_li = list_to_extract_jobs.find_elements(By.TAG_NAME, \"li\")\n",
    "\n",
    "    for item in list_li:\n",
    "        jobs = item.find_element(By.TAG_NAME, \"h3\").text\n",
    "        list_jobs.append(jobs)\n",
    "    \n",
    "        \n",
    "previous_height = driver.execute_script(\"return document.body.scrollHeight\")\n",
    "\n",
    "for i in range(6):\n",
    "    driver.execute_script(\"window.scrollTo(0, document.body.scrollHeight);\")\n",
    "    time.sleep(2)\n",
    "    new_height = driver.execute_script(\"return document.body.scrollHeight\")\n",
    "    previous_height = new_height\n",
    "\n",
    "extract_jobs()\n",
    "print(list_jobs)"
   ]
  },
  {
   "cell_type": "code",
   "execution_count": 110,
   "id": "c7d2f0c6",
   "metadata": {},
   "outputs": [
    {
     "name": "stdout",
     "output_type": "stream",
     "text": [
      "[]\n",
      "[]\n",
      "['Senior Fullstack Engineer (NodeJs, React)', 'Senior Fullstack Engineer (.Net, React)', 'Senior Software Engineer – iOS (Bangkok based, relocation provided)', '(Mid/Lead/Senior) Frontend Software Engineer - Open to remote work', 'Senior Software Engineer – iOS (Bangkok based, relocation provided)', 'Senior Frontend Developer (Angular) - MDV', 'Senior iOS Developer', 'Senior Full Stack Software Engineer (Ruby on Rails, Angular & ReactJS)', 'Senior ReactJS Frontend Engineer', 'Senior/Lead React.JS Developer - Relocation to the Netherlands', 'Senior Analyst or Associate Manager, Marketing Strategy (Bangkok Based, relocation provided)', 'Senior UX/UI Designer', 'Senior Software Engineer - Backend', 'Senior Product Designer, UI/UX', 'Senior Frontend Developer', 'Senior NodeJS Software Engineer, KMS Healthcare', 'Senior Software Engineer (React.JS)', 'Senior Application Security Engineer (Bangkok based, relocation provided)', 'Senior Fullstack Developer']\n",
      "['Business Intelligence Manager, Commercial Finance (Bangkok-based)', 'Business Intelligence Manager, Commercial Finance (Bangkok-based)', 'Remote Ruby on Rails Engineer', 'Software Engineer, Tech Lead', 'Magento Frontend Developer', 'Salesforce Developer - Japanese Speaking - HCM/HN']\n"
     ]
    }
   ],
   "source": [
    "import re \n",
    "fresher_position = r\"Fresher\"\n",
    "intern_position = r\"Intern\"\n",
    "senior_position = r\"Senior\"\n",
    "fresher = []\n",
    "intern = []\n",
    "senior = []\n",
    "other = []\n",
    "\n",
    "for element in list_jobs: \n",
    "    if re.search(fresher_position, element, re.IGNORECASE):\n",
    "        fresher.append(element)\n",
    "    if re.search(intern_position, element, re.IGNORECASE):\n",
    "        intern.append(element)\n",
    "    if re.search(senior_position, element, re.IGNORECASE):\n",
    "        senior.append(element)\n",
    "    else:\n",
    "        other.append(element)\n",
    "\n",
    "print(fresher)\n",
    "print(intern)\n",
    "print(senior)\n",
    "print(other)"
   ]
  },
  {
   "cell_type": "code",
   "execution_count": null,
   "id": "b3803862",
   "metadata": {},
   "outputs": [],
   "source": [
    "import panda as pd \n",
    "\n",
    "columns = ['Intern', 'Fresher', 'Senior', 'Other']\n",
    "index = ['']\n",
    "new_table = pd.DataFrame(column=columns)\n",
    "\n",
    "# Fistly, we need to extract to data and store it in csv file with a few columns. \n",
    "# I will name it Position, Company and Location\n",
    "# Then We will create another jupyter notebook for deeper analysis about each position "
   ]
  }
 ],
 "metadata": {
  "kernelspec": {
   "display_name": "Python 3 (ipykernel)",
   "language": "python",
   "name": "python3"
  },
  "language_info": {
   "codemirror_mode": {
    "name": "ipython",
    "version": 3
   },
   "file_extension": ".py",
   "mimetype": "text/x-python",
   "name": "python",
   "nbconvert_exporter": "python",
   "pygments_lexer": "ipython3",
   "version": "3.10.4"
  }
 },
 "nbformat": 4,
 "nbformat_minor": 5
}
