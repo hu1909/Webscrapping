{
 "cells": [
  {
   "cell_type": "markdown",
   "id": "5baf9268",
   "metadata": {},
   "source": [
    "# Job Position Statistic\n",
    "\n",
    "For an information technology student, finding out the positions in the IT market is a very necessary thing. In this notebook, I will summarize the number of positions currently recruiting and compare that number of positions and based on that statisitc, we can understand the recruitment needs of companies for each specific position.\n",
    "\n"
   ]
  },
  {
   "cell_type": "code",
   "execution_count": 87,
   "id": "0f4f8adf",
   "metadata": {},
   "outputs": [],
   "source": [
    "from selenium import webdriver\n",
    "from selenium.webdriver.common.by import By\n",
    "from selenium.webdriver.common.keys import Keys\n",
    "import time\n",
    "import pandas as pd\n",
    "\n",
    "\n",
    "class Job(webdriver.Firefox):\n",
    "    def __init__(self, url= 'https://www.linkedin.com/home',list_jobs = [], list_job_infor = {}):\n",
    "        self.url = url;\n",
    "        self.list_jobs = list_jobs\n",
    "        self.list_job_infor = list_job_infor\n",
    "        super(Job, self).__init__()\n",
    "\n",
    "    def goto_page(self):\n",
    "        self.get(self.url)\n",
    "\n",
    "    def search(self):\n",
    "        self.find_element(By.LINK_TEXT, \"Jobs\").click()\n",
    "        time.sleep(2)\n",
    "        field = self.find_element(By.NAME, \"keywords\")\n",
    "        location = self.find_element(By.NAME, \"location\")\n",
    "        \n",
    "        time.sleep(3)\n",
    "        field.send_keys(\"Software\")\n",
    "        location.send_keys(Keys.CONTROL + \"a\")\n",
    "        location.send_keys(Keys.DELETE)\n",
    "        location.send_keys(\"Vietnam\")\n",
    "\n",
    "        time.sleep(2)\n",
    "\n",
    "        location.send_keys(Keys.ENTER)\n",
    "     \n",
    "    \n",
    "    def extract_data(self):\n",
    "        list_to_extract_jobs = driver.find_element(By.CLASS_NAME, \"jobs-search__results-list\")\n",
    "        \n",
    "        list_li = list_to_extract_jobs.find_elements(By.TAG_NAME, \"li\")\n",
    "\n",
    "        for item in list_li:\n",
    "            jobs_title = item.find_element(By.TAG_NAME, \"h3\").text\n",
    "            jobs_company = item.find_element(By.TAG_NAME, \"h4\").text\n",
    "            jobs_location = item.find_element(By.CLASS_NAME, \"job-search-card__location\").text\n",
    "            self.list_job_infor = {'Position': jobs_title, 'Company': jobs_company, 'Location': jobs_location}\n",
    "            self.list_jobs.append(list_job_infor)\n",
    "    \n",
    "    def load_page(self):\n",
    "        previous_height = self.execute_script(\"return document.body.scrollHeight\")\n",
    "        self.execute_script(\"window.scrollTo(0, document.body.scrollHeight);\")\n",
    "        time.sleep(2)\n",
    "        new_height = self.execute_script(\"return document.body.scrollHeight\")\n",
    "        previous_height = new_height\n",
    "    \n",
    "    def second_load(self):\n",
    "        for i in range(20):\n",
    "            main = self.find_element(By.ID, \"main-content\")\n",
    "            div = main.find_element(By.CLASS_NAME, \"two-pane-serp-page__results-list\")\n",
    "            button = div.find_element(By.TAG_NAME, \"button\").click()\n",
    "            load_page()\n",
    "    \n",
    "    def add_to_file(self):\n",
    "        df = pd.DataFrame(self.list_jobs)\n",
    "        df.to_csv(\"Sorfware_position.csv\", mode=\"w\", index=False, header=False)\n",
    "        "
   ]
  },
  {
   "cell_type": "code",
   "execution_count": 88,
   "id": "18cb12f2",
   "metadata": {},
   "outputs": [],
   "source": [
    "# Step 1: Inspect Data Source \n",
    "job = Job()\n",
    "job.goto_page()\n",
    "job.search()"
   ]
  },
  {
   "cell_type": "code",
   "execution_count": 89,
   "id": "967ff172",
   "metadata": {},
   "outputs": [
    {
     "ename": "ElementNotInteractableException",
     "evalue": "Message: Element <button class=\"infinite-scroller__show-more-button\"> could not be scrolled into view\nStacktrace:\nRemoteError@chrome://remote/content/shared/RemoteError.jsm:12:1\nWebDriverError@chrome://remote/content/shared/webdriver/Errors.jsm:192:5\nElementNotInteractableError@chrome://remote/content/shared/webdriver/Errors.jsm:302:5\nwebdriverClickElement@chrome://remote/content/marionette/interaction.js:156:11\ninteraction.clickElement@chrome://remote/content/marionette/interaction.js:125:11\nclickElement@chrome://remote/content/marionette/actors/MarionetteCommandsChild.jsm:204:29\nreceiveMessage@chrome://remote/content/marionette/actors/MarionetteCommandsChild.jsm:92:31\n",
     "output_type": "error",
     "traceback": [
      "\u001b[0;31m---------------------------------------------------------------------------\u001b[0m",
      "\u001b[0;31mElementNotInteractableException\u001b[0m           Traceback (most recent call last)",
      "Cell \u001b[0;32mIn [89], line 6\u001b[0m\n\u001b[1;32m      3\u001b[0m     job\u001b[38;5;241m.\u001b[39mload_page()\n\u001b[1;32m      5\u001b[0m time\u001b[38;5;241m.\u001b[39msleep(\u001b[38;5;241m2\u001b[39m)\n\u001b[0;32m----> 6\u001b[0m \u001b[43mjob\u001b[49m\u001b[38;5;241;43m.\u001b[39;49m\u001b[43msecond_load\u001b[49m\u001b[43m(\u001b[49m\u001b[43m)\u001b[49m\n\u001b[1;32m      7\u001b[0m job\u001b[38;5;241m.\u001b[39mextract_data()\n",
      "Cell \u001b[0;32mIn [87], line 58\u001b[0m, in \u001b[0;36mJob.second_load\u001b[0;34m(self)\u001b[0m\n\u001b[1;32m     56\u001b[0m main \u001b[38;5;241m=\u001b[39m \u001b[38;5;28mself\u001b[39m\u001b[38;5;241m.\u001b[39mfind_element(By\u001b[38;5;241m.\u001b[39mID, \u001b[38;5;124m\"\u001b[39m\u001b[38;5;124mmain-content\u001b[39m\u001b[38;5;124m\"\u001b[39m)\n\u001b[1;32m     57\u001b[0m div \u001b[38;5;241m=\u001b[39m main\u001b[38;5;241m.\u001b[39mfind_element(By\u001b[38;5;241m.\u001b[39mCLASS_NAME, \u001b[38;5;124m\"\u001b[39m\u001b[38;5;124mtwo-pane-serp-page__results-list\u001b[39m\u001b[38;5;124m\"\u001b[39m)\n\u001b[0;32m---> 58\u001b[0m button \u001b[38;5;241m=\u001b[39m \u001b[43mdiv\u001b[49m\u001b[38;5;241;43m.\u001b[39;49m\u001b[43mfind_element\u001b[49m\u001b[43m(\u001b[49m\u001b[43mBy\u001b[49m\u001b[38;5;241;43m.\u001b[39;49m\u001b[43mTAG_NAME\u001b[49m\u001b[43m,\u001b[49m\u001b[43m \u001b[49m\u001b[38;5;124;43m\"\u001b[39;49m\u001b[38;5;124;43mbutton\u001b[39;49m\u001b[38;5;124;43m\"\u001b[39;49m\u001b[43m)\u001b[49m\u001b[38;5;241;43m.\u001b[39;49m\u001b[43mclick\u001b[49m\u001b[43m(\u001b[49m\u001b[43m)\u001b[49m\n\u001b[1;32m     59\u001b[0m load_page()\n",
      "File \u001b[0;32m~/notebook/jupyterenv/lib/python3.10/site-packages/selenium/webdriver/remote/webelement.py:88\u001b[0m, in \u001b[0;36mWebElement.click\u001b[0;34m(self)\u001b[0m\n\u001b[1;32m     86\u001b[0m \u001b[38;5;28;01mdef\u001b[39;00m \u001b[38;5;21mclick\u001b[39m(\u001b[38;5;28mself\u001b[39m) \u001b[38;5;241m-\u001b[39m\u001b[38;5;241m>\u001b[39m \u001b[38;5;28;01mNone\u001b[39;00m:\n\u001b[1;32m     87\u001b[0m     \u001b[38;5;124;03m\"\"\"Clicks the element.\"\"\"\u001b[39;00m\n\u001b[0;32m---> 88\u001b[0m     \u001b[38;5;28;43mself\u001b[39;49m\u001b[38;5;241;43m.\u001b[39;49m\u001b[43m_execute\u001b[49m\u001b[43m(\u001b[49m\u001b[43mCommand\u001b[49m\u001b[38;5;241;43m.\u001b[39;49m\u001b[43mCLICK_ELEMENT\u001b[49m\u001b[43m)\u001b[49m\n",
      "File \u001b[0;32m~/notebook/jupyterenv/lib/python3.10/site-packages/selenium/webdriver/remote/webelement.py:396\u001b[0m, in \u001b[0;36mWebElement._execute\u001b[0;34m(self, command, params)\u001b[0m\n\u001b[1;32m    394\u001b[0m     params \u001b[38;5;241m=\u001b[39m {}\n\u001b[1;32m    395\u001b[0m params[\u001b[38;5;124m'\u001b[39m\u001b[38;5;124mid\u001b[39m\u001b[38;5;124m'\u001b[39m] \u001b[38;5;241m=\u001b[39m \u001b[38;5;28mself\u001b[39m\u001b[38;5;241m.\u001b[39m_id\n\u001b[0;32m--> 396\u001b[0m \u001b[38;5;28;01mreturn\u001b[39;00m \u001b[38;5;28;43mself\u001b[39;49m\u001b[38;5;241;43m.\u001b[39;49m\u001b[43m_parent\u001b[49m\u001b[38;5;241;43m.\u001b[39;49m\u001b[43mexecute\u001b[49m\u001b[43m(\u001b[49m\u001b[43mcommand\u001b[49m\u001b[43m,\u001b[49m\u001b[43m \u001b[49m\u001b[43mparams\u001b[49m\u001b[43m)\u001b[49m\n",
      "File \u001b[0;32m~/notebook/jupyterenv/lib/python3.10/site-packages/selenium/webdriver/remote/webdriver.py:428\u001b[0m, in \u001b[0;36mWebDriver.execute\u001b[0;34m(self, driver_command, params)\u001b[0m\n\u001b[1;32m    426\u001b[0m response \u001b[38;5;241m=\u001b[39m \u001b[38;5;28mself\u001b[39m\u001b[38;5;241m.\u001b[39mcommand_executor\u001b[38;5;241m.\u001b[39mexecute(driver_command, params)\n\u001b[1;32m    427\u001b[0m \u001b[38;5;28;01mif\u001b[39;00m response:\n\u001b[0;32m--> 428\u001b[0m     \u001b[38;5;28;43mself\u001b[39;49m\u001b[38;5;241;43m.\u001b[39;49m\u001b[43merror_handler\u001b[49m\u001b[38;5;241;43m.\u001b[39;49m\u001b[43mcheck_response\u001b[49m\u001b[43m(\u001b[49m\u001b[43mresponse\u001b[49m\u001b[43m)\u001b[49m\n\u001b[1;32m    429\u001b[0m     response[\u001b[38;5;124m'\u001b[39m\u001b[38;5;124mvalue\u001b[39m\u001b[38;5;124m'\u001b[39m] \u001b[38;5;241m=\u001b[39m \u001b[38;5;28mself\u001b[39m\u001b[38;5;241m.\u001b[39m_unwrap_value(\n\u001b[1;32m    430\u001b[0m         response\u001b[38;5;241m.\u001b[39mget(\u001b[38;5;124m'\u001b[39m\u001b[38;5;124mvalue\u001b[39m\u001b[38;5;124m'\u001b[39m, \u001b[38;5;28;01mNone\u001b[39;00m))\n\u001b[1;32m    431\u001b[0m     \u001b[38;5;28;01mreturn\u001b[39;00m response\n",
      "File \u001b[0;32m~/notebook/jupyterenv/lib/python3.10/site-packages/selenium/webdriver/remote/errorhandler.py:243\u001b[0m, in \u001b[0;36mErrorHandler.check_response\u001b[0;34m(self, response)\u001b[0m\n\u001b[1;32m    241\u001b[0m         alert_text \u001b[38;5;241m=\u001b[39m value[\u001b[38;5;124m'\u001b[39m\u001b[38;5;124malert\u001b[39m\u001b[38;5;124m'\u001b[39m]\u001b[38;5;241m.\u001b[39mget(\u001b[38;5;124m'\u001b[39m\u001b[38;5;124mtext\u001b[39m\u001b[38;5;124m'\u001b[39m)\n\u001b[1;32m    242\u001b[0m     \u001b[38;5;28;01mraise\u001b[39;00m exception_class(message, screen, stacktrace, alert_text)  \u001b[38;5;66;03m# type: ignore[call-arg]  # mypy is not smart enough here\u001b[39;00m\n\u001b[0;32m--> 243\u001b[0m \u001b[38;5;28;01mraise\u001b[39;00m exception_class(message, screen, stacktrace)\n",
      "\u001b[0;31mElementNotInteractableException\u001b[0m: Message: Element <button class=\"infinite-scroller__show-more-button\"> could not be scrolled into view\nStacktrace:\nRemoteError@chrome://remote/content/shared/RemoteError.jsm:12:1\nWebDriverError@chrome://remote/content/shared/webdriver/Errors.jsm:192:5\nElementNotInteractableError@chrome://remote/content/shared/webdriver/Errors.jsm:302:5\nwebdriverClickElement@chrome://remote/content/marionette/interaction.js:156:11\ninteraction.clickElement@chrome://remote/content/marionette/interaction.js:125:11\nclickElement@chrome://remote/content/marionette/actors/MarionetteCommandsChild.jsm:204:29\nreceiveMessage@chrome://remote/content/marionette/actors/MarionetteCommandsChild.jsm:92:31\n"
     ]
    }
   ],
   "source": [
    "# Step 2: Scrape HTML content & Step 3: parse HTML Code\n",
    "for i in range(6):\n",
    "    time.sleep(1)\n",
    "    job.load_page()\n",
    "    \n",
    "time.sleep(2)\n",
    "job.second_load()\n",
    "job.extract_data()"
   ]
  },
  {
   "cell_type": "code",
   "execution_count": null,
   "id": "18c2ede5",
   "metadata": {},
   "outputs": [],
   "source": [
    "# Step 4: Export into csv file\n",
    "job.add_to_file()"
   ]
  },
  {
   "cell_type": "code",
   "execution_count": null,
   "id": "e0e91cf4",
   "metadata": {},
   "outputs": [],
   "source": [
    "# driver.find_element(By.LINK_TEXT, \"Jobs\").click()\n",
    "# time.sleep(4)\n",
    "# field = driver.find_element(By.NAME, \"keywords\")\n",
    "# location = driver.find_element(By.NAME, \"location\")\n"
   ]
  },
  {
   "cell_type": "markdown",
   "id": "b333d076",
   "metadata": {},
   "source": [
    "In this case, I will give several keywords to review all field in Linkedin such as: **Sofware**, **Hardware**, **Data** and **Security**. The reason why I use several keywords instead of just one like **IT** is that data becomes cluttered, difficult to sort by field as well as more difficult to sort by level."
   ]
  },
  {
   "cell_type": "code",
   "execution_count": null,
   "id": "df683c67",
   "metadata": {},
   "outputs": [],
   "source": [
    "# list_keywords = [\"Software\", \"Hardware\", \"Data\", \"Security\"]\n",
    "\n",
    "\n",
    "# time.sleep(3)\n",
    "# field.send_keys(\"Software\")\n",
    "\n",
    "# time.sleep(2)\n",
    "\n",
    "# location.send_keys(Keys.CONTROL + \"a\")\n",
    "# location.send_keys(Keys.DELETE)\n",
    "# location.send_keys(\"Vietnam\")\n",
    "\n",
    "# time.sleep(2)\n",
    "\n",
    "# location.send_keys(Keys.ENTER)\n",
    "\n",
    "\n",
    "        "
   ]
  },
  {
   "cell_type": "code",
   "execution_count": null,
   "id": "5c1b3d84",
   "metadata": {
    "scrolled": false
   },
   "outputs": [],
   "source": [
    "# time.sleep(4)\n",
    "# list_to_extract_jobs = driver.find_element(By.CLASS_NAME, \"jobs-search__results-list\")\n",
    "# list_jobs = []\n",
    "# list_job_infor = {}\n",
    "# # [{'position' : '....', 'company name': '...', 'location': '...'}]\n",
    "# def extract_jobs():\n",
    "#     list_li = list_to_extract_jobs.find_elements(By.TAG_NAME, \"li\")\n",
    "\n",
    "#     for item in list_li:\n",
    "#         jobs_title = item.find_element(By.TAG_NAME, \"h3\").text\n",
    "#         jobs_company = item.find_element(By.TAG_NAME, \"h4\").text\n",
    "#         jobs_location = item.find_element(By.CLASS_NAME, \"job-search-card__location\").text\n",
    "#         list_job_infor = {'Position': jobs_title, 'Company': jobs_company, 'Location': jobs_location}\n",
    "#         list_jobs.append(list_job_infor)\n",
    "    \n",
    "        \n",
    "# previous_height = driver.execute_script(\"return document.body.scrollHeight\")\n",
    "\n",
    "\n",
    "# def load_page():\n",
    "#     driver.execute_script(\"window.scrollTo(0, document.body.scrollHeight);\")\n",
    "#     time.sleep(2)\n",
    "#     new_height = driver.execute_script(\"return document.body.scrollHeight\")\n",
    "#     previous_height = new_height\n",
    "    \n",
    "# def second_load():\n",
    "#     for i in range(20):\n",
    "#         main = driver.find_element(By.ID, \"main-content\")\n",
    "#         div = main.find_element(By.CLASS_NAME, \"two-pane-serp-page__results-list\")\n",
    "#         button = div.find_element(By.TAG_NAME, \"button\").click()\n",
    "#         load_page()\n",
    "\n",
    "\n",
    "# # first load\n",
    "# for i in range(6):\n",
    "#     load_page()\n",
    "    \n",
    "# second_load()\n",
    "# #second load    \n",
    "# extract_jobs()\n",
    "# print(list_jobs)\n",
    "# print(len(list_jobs))"
   ]
  },
  {
   "cell_type": "code",
   "execution_count": null,
   "id": "33c5bcdf",
   "metadata": {},
   "outputs": [],
   "source": [
    "# def add_to_file(lists):\n",
    "#     df = pd.DataFrame(lists)\n",
    "#     df.to_csv(\"Sorfware_position.csv\", mode=\"w\", index=False, header=False)"
   ]
  }
 ],
 "metadata": {
  "kernelspec": {
   "display_name": "Python 3 (ipykernel)",
   "language": "python",
   "name": "python3"
  },
  "language_info": {
   "codemirror_mode": {
    "name": "ipython",
    "version": 3
   },
   "file_extension": ".py",
   "mimetype": "text/x-python",
   "name": "python",
   "nbconvert_exporter": "python",
   "pygments_lexer": "ipython3",
   "version": "3.10.4"
  }
 },
 "nbformat": 4,
 "nbformat_minor": 5
}
