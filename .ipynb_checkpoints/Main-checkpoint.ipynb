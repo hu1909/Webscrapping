{
 "cells": [
  {
   "cell_type": "markdown",
   "id": "5baf9268",
   "metadata": {},
   "source": [
    "# Job Position Statistic\n",
    "\n",
    "For an information technology student, finding out the positions in the IT market is a very necessary thing. In this notebook, I will summarize the number of positions currently recruiting and compare that number of positions and based on that statisitc, we can understand the recruitment needs of companies for each specific position.\n",
    "\n"
   ]
  },
  {
   "cell_type": "code",
   "execution_count": null,
   "id": "18cb12f2",
   "metadata": {},
   "outputs": [],
   "source": [
    "# Step 1: Inspect Data Source "
   ]
  },
  {
   "cell_type": "code",
   "execution_count": 92,
   "id": "0f4f8adf",
   "metadata": {},
   "outputs": [],
   "source": [
    "from selenium import webdriver\n",
    "from selenium.webdriver.common.by import By\n",
    "from selenium.webdriver.common.keys import Keys\n",
    "import time\n",
    "\n",
    "url = 'https://www.linkedin.com/home'\n",
    "driver = webdriver.Firefox()\n",
    "driver.get(url)\n"
   ]
  },
  {
   "cell_type": "code",
   "execution_count": 93,
   "id": "967ff172",
   "metadata": {},
   "outputs": [],
   "source": [
    "# Step 2: Scrape HTML content"
   ]
  },
  {
   "cell_type": "code",
   "execution_count": 94,
   "id": "e0e91cf4",
   "metadata": {},
   "outputs": [],
   "source": [
    "driver.find_element(By.LINK_TEXT, \"Jobs\").click()\n",
    "\n",
    "field = driver.find_element(By.NAME, \"keywords\")\n",
    "location = driver.find_element(By.NAME, \"location\")\n"
   ]
  },
  {
   "cell_type": "markdown",
   "id": "b333d076",
   "metadata": {},
   "source": [
    "In this case, I will give several keywords to review all field in Linkedin such as: **Sofware**, **Hardware**, **Data** and **Security**. The reason why I use several keywords instead of just one like **IT** is that data becomes cluttered, difficult to sort by field as well as more difficult to sort by level."
   ]
  },
  {
   "cell_type": "code",
   "execution_count": null,
   "id": "df683c67",
   "metadata": {},
   "outputs": [],
   "source": [
    "time.sleep(3)\n",
    "field.send_keys(\"IT\")\n",
    "\n",
    "time.sleep(2)\n",
    "location.send_keys(Keys.CONTROL + \"a\")\n",
    "location.send_keys(Keys.DELETE)\n",
    "location.send_keys(\"Vietnam\")\n",
    "time.sleep(2)\n",
    "\n",
    "location.send_keys(Keys.ENTER)\n",
    "\n",
    "\n",
    "## take all the data we need for each keyword and save it in separate csv file."
   ]
  },
  {
   "cell_type": "code",
   "execution_count": null,
   "id": "18c2ede5",
   "metadata": {},
   "outputs": [],
   "source": [
    "# Step 3: parse HTML Code"
   ]
  },
  {
   "cell_type": "code",
   "execution_count": null,
   "id": "5616fdb6",
   "metadata": {},
   "outputs": [],
   "source": []
  }
 ],
 "metadata": {
  "kernelspec": {
   "display_name": "Python 3 (ipykernel)",
   "language": "python",
   "name": "python3"
  },
  "language_info": {
   "codemirror_mode": {
    "name": "ipython",
    "version": 3
   },
   "file_extension": ".py",
   "mimetype": "text/x-python",
   "name": "python",
   "nbconvert_exporter": "python",
   "pygments_lexer": "ipython3",
   "version": "3.10.4"
  }
 },
 "nbformat": 4,
 "nbformat_minor": 5
}
